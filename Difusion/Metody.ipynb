{
 "cells": [
  {
   "cell_type": "code",
   "execution_count": 3,
   "metadata": {},
   "outputs": [],
   "source": [
    "from email import header\n",
    "import os\n",
    "import cv2\n",
    "\n",
    "import tifffile\n",
    "from PIL import Image\n",
    "\n",
    "from win32api import GetSystemMetrics\n",
    "####\n",
    "from ctypes import windll\n",
    "windll.user32.SetProcessDpiAwarenessContext(-4)\n",
    "#The -4 apparently signifies DPI_AWARENESS_CONTEXT_PER_MONITOR_AWARE_V2, which is the newest iteration of this type of context-awareness\n",
    "####\n",
    "import csv\n",
    "\n",
    "import h5py\n",
    "\n",
    "from scipy.signal import lfilter\n",
    "from scipy.signal import medfilt\n",
    "\n",
    "from cycler import cycler\n",
    "\n",
    "import glob \n",
    "\n",
    "import gc\n",
    "import math\n",
    "import threading\n",
    "from functools import partial\n",
    "\n",
    "import matplotlib as mpl\n",
    "\n",
    "import matplotlib.cm as cm\n",
    "import matplotlib.pyplot as plt\n",
    "import matplotlib.ticker as ticker\n",
    "import numpy as np\n",
    "from imageio import imread\n",
    "from matplotlib.backends.backend_agg import FigureCanvasAgg\n",
    "from mpl_toolkits.axes_grid1 import make_axes_locatable\n",
    "from scipy import fftpack, io\n",
    "from skimage.restoration import unwrap_phase"
   ]
  },
  {
   "cell_type": "code",
   "execution_count": null,
   "metadata": {},
   "outputs": [],
   "source": []
  }
 ],
 "metadata": {
  "kernelspec": {
   "display_name": "Metrologia_Polska_clone",
   "language": "python",
   "name": "python3"
  },
  "language_info": {
   "codemirror_mode": {
    "name": "ipython",
    "version": 3
   },
   "file_extension": ".py",
   "mimetype": "text/x-python",
   "name": "python",
   "nbconvert_exporter": "python",
   "pygments_lexer": "ipython3",
   "version": "3.7.12"
  }
 },
 "nbformat": 4,
 "nbformat_minor": 2
}
